{
 "cells": [
  {
   "cell_type": "code",
   "execution_count": 1,
   "id": "64843e87",
   "metadata": {},
   "outputs": [],
   "source": [
    "# Burger's equation:\n",
    "\n",
    "import numpy as np\n",
    "import matplotlib.pyplot as plt\n",
    "from mpl_toolkits.mplot3d import Axes3D\n",
    "\n",
    "# Model Parameters\n",
    "xmin = -10.0   # left boundary\n",
    "xmax = +10.0   # right boundary\n",
    "Nx = 101      # number of grid points (including boundary)\n",
    "tend = 10.0    # end time\n",
    "dtout = 1.0   # time interval for outputs\n",
    "\n",
    "# Set up the grid.\n",
    "x = np.linspace(xmin, xmax, Nx)\n",
    "dx = (xmax - xmin) / (Nx - 1)\n",
    "dt = 0.8 * dx\n",
    "U = np.zeros(Nx,)\n",
    "\n",
    "# Give the initial profile.\n",
    "t = 0.0\n",
    "U = 0.2 + 0.8 * np.exp(-0.5 * x**2)"
   ]
  },
  {
   "cell_type": "code",
   "execution_count": 2,
   "id": "4684a881",
   "metadata": {},
   "outputs": [
    {
     "ename": "SyntaxError",
     "evalue": "invalid syntax (1170502190.py, line 22)",
     "output_type": "error",
     "traceback": [
      "\u001b[0;36m  Cell \u001b[0;32mIn[2], line 22\u001b[0;36m\u001b[0m\n\u001b[0;31m    U[ix]=Uold[ix]- # Task: implement upwind method here.\u001b[0m\n\u001b[0m                    ^\u001b[0m\n\u001b[0;31mSyntaxError\u001b[0m\u001b[0;31m:\u001b[0m invalid syntax\n"
     ]
    }
   ],
   "source": [
    "# Prepare for 3D outputs.\n",
    "tp = [t]\n",
    "Up = np.copy(U)\n",
    "\n",
    "# Initiate the plot.\n",
    "fig = plt.figure(figsize=(16,10))\n",
    "ax = fig.gca()\n",
    "ax.plot(x, U, label=r\"$t = {:.3G}$\".format(t))\n",
    "ax.set_xlabel(r\"Position $x$\")\n",
    "ax.set_ylabel(r\"$U(t,x)$\")\n",
    "ax.minorticks_on()\n",
    "\n",
    "# Begin the simulation.\n",
    "tout = t + dtout\n",
    "while t < tend:\n",
    "    # Backup the previous time step.\n",
    "    Uold = np.copy(U)\n",
    "\n",
    "    # Find the state at the next time step.\n",
    "    if Uold.any() > 0:\n",
    "        for ix in range(1, Nx - 1):\n",
    "           U[ix]=Uold[ix]- Uold[ix]- (Uold[ix]*dt*((Uold[ix-1])/dx))\n",
    "            \n",
    "    else:\n",
    "        for ix in range(1, Nx - 1):\n",
    "           U[ix]=Uold[ix]- Uold[ix+1]- (Uold[ix]*dt*((Uold[ix])/dx))\n",
    "            \n",
    "    t += dt\n",
    "\n",
    "    # Save the data after every dtout.\n",
    "    if t >= tout:\n",
    "        plt.plot(x, U, label=r\"$t = {:.3G}$\".format(t))\n",
    "        tp.append(t)\n",
    "        Up = np.vstack((Up, U))\n",
    "        print(\"t = \", t)\n",
    "        tout += dtout\n",
    "\n",
    "ax.legend()\n",
    "\n",
    "# Create 3D-view of the solution.\n",
    "t, x = np.meshgrid(tp, x)\n",
    "fig3D = plt.figure(figsize=(16,10))\n",
    "ax3D = Axes3D(fig3D)\n",
    "ax3D.plot_wireframe(t, x, Up.transpose(), color=\"red\")\n",
    "ax3D.set_xlabel(\"Time $t$\")\n",
    "ax3D.set_ylabel(\"Position $x$\")\n",
    "ax3D.set_zlabel(r\"$U(t,x)$\")\n",
    "\n",
    "print(\"Done.\")\n",
    "plt.show()"
   ]
  },
  {
   "cell_type": "code",
   "execution_count": null,
   "id": "3a95581a",
   "metadata": {},
   "outputs": [],
   "source": []
  }
 ],
 "metadata": {
  "kernelspec": {
   "display_name": "Python 3 (ipykernel)",
   "language": "python",
   "name": "python3"
  },
  "language_info": {
   "codemirror_mode": {
    "name": "ipython",
    "version": 3
   },
   "file_extension": ".py",
   "mimetype": "text/x-python",
   "name": "python",
   "nbconvert_exporter": "python",
   "pygments_lexer": "ipython3",
   "version": "3.11.5"
  }
 },
 "nbformat": 4,
 "nbformat_minor": 5
}
