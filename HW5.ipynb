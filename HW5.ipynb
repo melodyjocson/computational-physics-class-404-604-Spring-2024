{
 "cells": [
  {
   "cell_type": "code",
   "execution_count": null,
   "id": "aa84cb1f",
   "metadata": {},
   "outputs": [],
   "source": [
    "# Homework: using Newton-Raphson method to solve above equation arrays\n",
    "# Hint: first you need to derive the partical derivative of the equation arrays. You can do it either \n",
    "# analytically by hand or numerically using method we learned in the last lecture."
   ]
  },
  {
   "cell_type": "code",
   "execution_count": null,
   "id": "32d5267c",
   "metadata": {},
   "outputs": [],
   "source": [
    "import matplotlib.pyplot as plt\n",
    "import numpy as np\n",
    "\n",
    "\n",
    "def f1(x1,x2):\n",
    "    return (x1*x1+x1*x2-10.)\n",
    "\n",
    "def f2(x1,x2):\n",
    "    return (x2+3*x1*x2*x2-57)\n",
    "\n",
    "def a(x1,x2):\n",
    "    dx = 1.e-6\n",
    "    f1(x1+dx/2.,x2) - f1(x1-dx/2.,x2)\n",
    "\n",
    "def b(x1,x2): #might be wrong\n",
    "    dx = 1.e-6\n",
    "    f1(x2+dx/2., x1) - f1(x2-dx/2.,x1)\n",
    "    \n",
    "def c(x1,x2):\n",
    "    dx = 1.e-6\n",
    "    f2(x1+dx/2.,x2) - f2(x1-dx/2.,x2)\n",
    "    \n",
    "def d(x1,x2): #might be wrong \n",
    "    dx = 1.e-6\n",
    "    f2(x2+dx/2., x1) - f2(x2-dx/2.,x1)\n",
    "    \n",
    "def dx1(f1,f2,a,b,c,d,x1,x2):\n",
    "    return (b(x1,x2)*f2(x1,x2) - d(x1,x2)*f1(x1,x2))/(a(x1,x2)*d(x1,x2) - b(x1,x2)*c(x1,x2))\n",
    "\n",
    "def dx2(f1,f2,a,b,c,d,x1,x2):\n",
    "    return (c(x1,x2)*f1(x1,x2) - a(x1,x2)*f2(x1,x2))/(a(x1,x2)*d(x1,x2) - b(x1,x2)*c(x1,x2))\n",
    "    \n",
    "x1=3\n",
    "x2=6\n",
    "eps = 1.e-8\n",
    "for i in np.arange (0, 100, 1):\n",
    "    x1=x1+dx1(f1,f2,a,b,c,d,x1,x2)\n",
    "    x2=x2+dx2(f1,f2,a,b,c,d,x1,x2)\n",
    "    print(f1(x1,x2), f2(x1,x2))\n",
    "    \n",
    "    if (f1(x1,x2)<eps & f2(x1,x2))<eps:\n",
    "        exit()"
   ]
  },
  {
   "cell_type": "code",
   "execution_count": null,
   "id": "2eff92bd",
   "metadata": {},
   "outputs": [],
   "source": []
  }
 ],
 "metadata": {
  "kernelspec": {
   "display_name": "Python 3 (ipykernel)",
   "language": "python",
   "name": "python3"
  },
  "language_info": {
   "codemirror_mode": {
    "name": "ipython",
    "version": 3
   },
   "file_extension": ".py",
   "mimetype": "text/x-python",
   "name": "python",
   "nbconvert_exporter": "python",
   "pygments_lexer": "ipython3",
   "version": "3.11.5"
  }
 },
 "nbformat": 4,
 "nbformat_minor": 5
}
