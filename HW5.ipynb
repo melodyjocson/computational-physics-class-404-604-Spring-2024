{
 "cells": [
  {
   "cell_type": "code",
   "execution_count": null,
   "id": "2a563f96",
   "metadata": {},
   "outputs": [],
   "source": [
    "# Homework: using Newton-Raphson method to solve above equation arrays\n",
    "# Hint: first you need to derive the partical derivative of the equation arrays. You can do it either \n",
    "# analytically by hand or numerically using method we learned in the last lecture."
   ]
  },
  {
   "cell_type": "code",
   "execution_count": 26,
   "id": "079e65e9",
   "metadata": {},
   "outputs": [
    {
     "ename": "TypeError",
     "evalue": "unsupported operand type(s) for *: 'function' and 'function'",
     "output_type": "error",
     "traceback": [
      "\u001b[0;31m---------------------------------------------------------------------------\u001b[0m",
      "\u001b[0;31mTypeError\u001b[0m                                 Traceback (most recent call last)",
      "Cell \u001b[0;32mIn[26], line 37\u001b[0m\n\u001b[1;32m     35\u001b[0m eps \u001b[38;5;241m=\u001b[39m \u001b[38;5;241m1.e-8\u001b[39m\n\u001b[1;32m     36\u001b[0m \u001b[38;5;28;01mfor\u001b[39;00m i \u001b[38;5;129;01min\u001b[39;00m np\u001b[38;5;241m.\u001b[39marange (\u001b[38;5;241m0\u001b[39m, \u001b[38;5;241m100\u001b[39m, \u001b[38;5;241m1\u001b[39m):\n\u001b[0;32m---> 37\u001b[0m     x1\u001b[38;5;241m=\u001b[39mx1\u001b[38;5;241m+\u001b[39mdx1(f1,f2,a,b,c,d,x1,x2)\n\u001b[1;32m     38\u001b[0m     x2\u001b[38;5;241m=\u001b[39mx2\u001b[38;5;241m+\u001b[39mdx2(f1,f2,a,b,c,d,x1,x2)\n\u001b[1;32m     39\u001b[0m     \u001b[38;5;28mprint\u001b[39m(f1(x1,x2), f2(x1,x2))\n",
      "Cell \u001b[0;32mIn[26], line 28\u001b[0m, in \u001b[0;36mdx1\u001b[0;34m(f1, f2, a, b, c, d, x1, x2)\u001b[0m\n\u001b[1;32m     27\u001b[0m \u001b[38;5;28;01mdef\u001b[39;00m \u001b[38;5;21mdx1\u001b[39m(f1,f2,a,b,c,d,x1,x2):\n\u001b[0;32m---> 28\u001b[0m     \u001b[38;5;28;01mreturn\u001b[39;00m (b\u001b[38;5;241m*\u001b[39mf2 \u001b[38;5;241m-\u001b[39m d\u001b[38;5;241m*\u001b[39mf1)\u001b[38;5;241m/\u001b[39m(a\u001b[38;5;241m*\u001b[39md \u001b[38;5;241m-\u001b[39m b\u001b[38;5;241m*\u001b[39mc)\n",
      "\u001b[0;31mTypeError\u001b[0m: unsupported operand type(s) for *: 'function' and 'function'"
     ]
    }
   ],
   "source": [
    "import matplotlib.pyplot as plt\n",
    "import numpy as np\n",
    "\n",
    "\n",
    "def f1(x1,x2):\n",
    "    return (x1*x1+x1*x2-10.)\n",
    "\n",
    "def f2(x1,x2):\n",
    "    return (x2+3*x1*x2*x2-57)\n",
    "\n",
    "def a(x1,x2):\n",
    "    dx = 1.e-6\n",
    "    f1(x1+dx/2.,x2) - f1(x1-dx/2.,x2)\n",
    "\n",
    "def b(x1,x2): #might be wrong\n",
    "    dx = 1.e-6\n",
    "    f1(x2+dx/2., x1) - f1(x2-dx/2.,x1)\n",
    "    \n",
    "def c(x1,x2):\n",
    "    dx = 1.e-6\n",
    "    f2(x1+dx/2.,x2) - f2(x1-dx/2.,x2)\n",
    "    \n",
    "def d(x1,x2): #might be wrong \n",
    "    dx = 1.e-6\n",
    "    f2(x2+dx/2., x1) - f2(x2-dx/2.,x1)\n",
    "    \n",
    "def dx1(f1,f2,a,b,c,d,x1,x2):\n",
    "    return (b*f2 - d*f1)/(a*d - b*c)\n",
    "\n",
    "def dx2(f1,f2,a,b,c,d,x1,x2):\n",
    "    return (c*f1 - a*f2)/(a*d - b*c)\n",
    "    \n",
    "x1=5\n",
    "x2=10\n",
    "eps = 1.e-8\n",
    "for i in np.arange (0, 100, 1):\n",
    "    x1=x1+dx1(f1,f2,a,b,c,d,x1,x2)\n",
    "    x2=x2+dx2(f1,f2,a,b,c,d,x1,x2)\n",
    "    print(f1(x1,x2), f2(x1,x2))\n",
    "    \n",
    "    if (f1(x1,x2)<eps & f2(x1,x2))<eps:\n",
    "        exit()"
   ]
  },
  {
   "cell_type": "code",
   "execution_count": null,
   "id": "d2e55321",
   "metadata": {},
   "outputs": [],
   "source": []
  }
 ],
 "metadata": {
  "kernelspec": {
   "display_name": "Python 3 (ipykernel)",
   "language": "python",
   "name": "python3"
  },
  "language_info": {
   "codemirror_mode": {
    "name": "ipython",
    "version": 3
   },
   "file_extension": ".py",
   "mimetype": "text/x-python",
   "name": "python",
   "nbconvert_exporter": "python",
   "pygments_lexer": "ipython3",
   "version": "3.11.5"
  }
 },
 "nbformat": 4,
 "nbformat_minor": 5
}
